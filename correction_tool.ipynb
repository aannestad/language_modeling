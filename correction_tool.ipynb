{
 "cells": [
  {
   "cell_type": "markdown",
   "metadata": {},
   "source": [
    "# My own 'did you mean?'-correction tool. A humble beginning...\n",
    "### By Hans Martin Aannestad\n",
    "\n",
    "## 1.1 Finding collocations"
   ]
  },
  {
   "cell_type": "code",
   "execution_count": 1,
   "metadata": {},
   "outputs": [],
   "source": [
    "import nltk\n",
    "from nltk.collocations import *\n",
    "\n",
    "# • Consider sequences of 2 words (bigrams).\n",
    "\n",
    "bigram_measures = nltk.collocations.BigramAssocMeasures()\n",
    "finder = BigramCollocationFinder.from_words(nltk.corpus.brown.tagged_words(tagset='universal'))\n",
    "\n",
    "# (1) frequency plus part-of-speech tagging (search for adjectives and nouns)\n",
    "\n",
    "finder.apply_freq_filter(3)\n",
    "valid = ['ADJ','NOUN']\n",
    "\n",
    "# (2) hypothesis testing (see slides for Lecture 2). Using built-in student t-test\n",
    "\n",
    "coll = sorted(finder.above_score(bigram_measures.student_t, 2.645))  # Set confidence to preference\n",
    "coll_v = [(a[0].lower(),b[0].lower()) for (a,b) in coll if (a[1] in valid) and (b[1] in valid)]\n",
    "\n",
    "# • Generate files containing the collocations.\n",
    "\n",
    "with open('collocations.txt', 'w') as filehandle:\n",
    "    for item in coll_v:\n",
    "        filehandle.write('%s\\n' % str(item))\n"
   ]
  },
  {
   "cell_type": "markdown",
   "metadata": {},
   "source": [
    "## 1.2 Correction tool"
   ]
  },
  {
   "cell_type": "code",
   "execution_count": 2,
   "metadata": {},
   "outputs": [],
   "source": [
    "## • Suggestion: Use WordNet to detect synonyms.\n",
    "\n",
    "import nltk\n",
    "from nltk.corpus import wordnet as wn\n",
    "from nltk.corpus import words\n",
    "from nltk import word_tokenize\n",
    "from nltk.metrics.distance import jaccard_distance\n",
    "from nltk.util import ngrams\n",
    "\n",
    "correct_spellings = words.words()\n",
    "\n",
    "def correct(s):\n",
    "    tokens = word_tokenize(s.lower()) # Tokenize\n",
    "    corr_ws = correct_spelling(tokens) # Correct spelling\n",
    "\n",
    "    for i in range(len(corr_ws)-1): # Correct collocations\n",
    "        out = correct_collocations(corr_ws[i],corr_ws[i+1])\n",
    "        #print(out)\n",
    "        corr_ws[i] = out[0]\n",
    "        corr_ws[i+1] = out[1]\n",
    "\n",
    "    if tokens == corr_ws:   # No corrections needed\n",
    "        return (\"All good!\")\n",
    "    else:\n",
    "        return (\"Did you mean: \" + ' '.join(corr_ws)  + \"?\")\n",
    "        \n",
    "def correct_spelling(raw_in):\n",
    "    out = []\n",
    "    for entry in raw_in:\n",
    "        temp = [(jaccard_distance(set(ngrams(entry, 2)), set(ngrams(w, 2))),w) for w in correct_spellings if w[0]==entry[0]]\n",
    "        out.append(sorted(temp, key = lambda val:val[0])[0][1])\n",
    "    return out\n",
    "     \n",
    "def correct_collocations(w1, w2):\n",
    "    # Search for w1 in first bigram collocations\n",
    "    for c in coll_v:\n",
    "    \n",
    "        if w1 == c[0]: # match\n",
    "        # if second word is in the collocation\n",
    "            if w2 == c[1]:\n",
    "                return (w1, w2) # no correction needed\n",
    "            else:\n",
    "            # search for synonyms of the second word to identify collocation\n",
    "                \n",
    "                for ss in wn.synsets(c[1]):\n",
    "                    for name in ss.lemma_names():\n",
    "                        if name == w2:\n",
    "                            return (c[0], c[1])\n",
    "\n",
    "        if w2 == c[1]: # match\n",
    "\n",
    "        # if first word is in the collocation\n",
    "            if w1 == c[0]:\n",
    "                return (w1, w2) # no correction needed\n",
    "            else:\n",
    "            # search for synonyms of the second word to identify collocation\n",
    "                for ss in wn.synsets(c[0]):\n",
    "                    for name in ss.lemma_names():\n",
    "                        if name == w1:\n",
    "                            return (c[0], c[1])\n",
    "    return (w1, w2)\n",
    "        "
   ]
  },
  {
   "cell_type": "markdown",
   "metadata": {},
   "source": [
    "\n"
   ]
  },
  {
   "cell_type": "code",
   "execution_count": 3,
   "metadata": {},
   "outputs": [
    {
     "name": "stdout",
     "output_type": "stream",
     "text": [
      "Enter two words. For example: usual sense\n"
     ]
    },
    {
     "data": {
      "application/vnd.jupyter.widget-view+json": {
       "model_id": "fc3768710ba544a1853c8f4af1283887",
       "version_major": 2,
       "version_minor": 0
      },
      "text/plain": [
       "Text(value='')"
      ]
     },
     "metadata": {},
     "output_type": "display_data"
    },
    {
     "data": {
      "application/vnd.jupyter.widget-view+json": {
       "model_id": "7c00cc470f8e40aba4e113a974809bb1",
       "version_major": 2,
       "version_minor": 0
      },
      "text/plain": [
       "Button(description='Check for corrections', style=ButtonStyle())"
      ]
     },
     "metadata": {},
     "output_type": "display_data"
    },
    {
     "data": {
      "application/vnd.jupyter.widget-view+json": {
       "model_id": "43b4880715e6448ebdccb7b3bd9679dc",
       "version_major": 2,
       "version_minor": 0
      },
      "text/plain": [
       "Output()"
      ]
     },
     "metadata": {},
     "output_type": "display_data"
    }
   ],
   "source": [
    "from ipywidgets import widgets\n",
    "from IPython.display import display\n",
    "\n",
    "print(\"Enter two words. For example: usual sense\")\n",
    "text = widgets.Text()\n",
    "display(text)\n",
    "\n",
    "output = widgets.Output()\n",
    "\n",
    "@output.capture()\n",
    "def handle_submit(sender):\n",
    "    output.clear_output()\n",
    "\n",
    "button = widgets.Button(description=\"Check for corrections\")\n",
    "display(button)\n",
    "\n",
    "@output.capture()\n",
    "def on_button_clicked(b):\n",
    "    output.clear_output()\n",
    "\n",
    "    print(correct(text.value))\n",
    " \n",
    "button.on_click(on_button_clicked)\n",
    "text.on_submit(handle_submit)\n",
    "\n",
    "display(output)"
   ]
  },
  {
   "cell_type": "code",
   "execution_count": 4,
   "metadata": {},
   "outputs": [
    {
     "data": {
      "text/plain": [
       "13"
      ]
     },
     "execution_count": 4,
     "metadata": {},
     "output_type": "execute_result"
    }
   ],
   "source": [
    "len(\"Uninteresting painting A beautiful classic Bad quality Pointless theme beautiful my favourite painting\".split())"
   ]
  },
  {
   "cell_type": "code",
   "execution_count": 5,
   "metadata": {},
   "outputs": [
    {
     "data": {
      "text/plain": [
       "11"
      ]
     },
     "execution_count": 5,
     "metadata": {},
     "output_type": "execute_result"
    }
   ],
   "source": [
    "len(set(\"Uninteresting painting A beautiful classic Bad quality Pointless theme beautiful my favourite painting\".split()))"
   ]
  },
  {
   "cell_type": "code",
   "execution_count": null,
   "metadata": {},
   "outputs": [],
   "source": []
  }
 ],
 "metadata": {
  "interpreter": {
   "hash": "b4cdbc7c3fa968f8f57a8da50a47c3ee9b8594a4de967130c021b1087ec3a6ed"
  },
  "kernelspec": {
   "display_name": "Python 3.8.5 64-bit ('ml': conda)",
   "name": "python3"
  },
  "language_info": {
   "codemirror_mode": {
    "name": "ipython",
    "version": 3
   },
   "file_extension": ".py",
   "mimetype": "text/x-python",
   "name": "python",
   "nbconvert_exporter": "python",
   "pygments_lexer": "ipython3",
   "version": "3.8.5"
  },
  "orig_nbformat": 4
 },
 "nbformat": 4,
 "nbformat_minor": 2
}
